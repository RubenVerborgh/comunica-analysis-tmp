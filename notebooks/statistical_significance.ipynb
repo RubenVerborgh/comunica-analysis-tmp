{
 "cells": [
  {
   "cell_type": "code",
   "execution_count": 1,
   "id": "6f7f81ca-b47d-4236-b063-32618aee94d9",
   "metadata": {},
   "outputs": [],
   "source": [
    "import json\n",
    "from texttable import Texttable\n",
    "import latextable\n",
    "from tabulate import tabulate\n",
    "import sys\n",
    "file_directory = \"../\"\n",
    "sys.path.append(file_directory)\n",
    "from generateDataset import generateDatasetFromResults\n",
    "from metric import statisticalSignificanceByTemplate\n",
    "import matplotlib.pyplot as plt\n",
    "import numpy as np\n",
    "from matplotlib.ticker import MultipleLocator\n",
    "from scipy.optimize import curve_fit\n",
    "from scipy.stats import pearsonr\n",
    "from matplotlib.ticker import FormatStrFormatter\n",
    "from matplotlib.lines import Line2D\n",
    "import statistics"
   ]
  },
  {
   "cell_type": "markdown",
   "id": "837b35e6-7069-460b-911f-f9ff4d4a128c",
   "metadata": {},
   "source": [
    "# Datasets"
   ]
  },
  {
   "cell_type": "code",
   "execution_count": 2,
   "id": "f9dcb810-437e-49ae-af4c-8af518f731b8",
   "metadata": {},
   "outputs": [],
   "source": [
    "shapeIndexPathResult = \"../results/standard/shape_index_result.json\"\n",
    "shapeIndexPathSummary = \"../results/standard/summary_shape_index_result.json\"\n",
    "shapeIndexDataset = generateDatasetFromResults(shapeIndexPathResult, shapeIndexPathSummary, \"shape index\")"
   ]
  },
  {
   "cell_type": "code",
   "execution_count": 3,
   "id": "3b8f7c9d-c83e-434b-bbd5-687768b8ad4d",
   "metadata": {},
   "outputs": [],
   "source": [
    "typeIndexLdpPathResult = \"../results/standard/type_index_ldp_result.json\"\n",
    "typeIndexLdpPathSummary = \"../results/standard/summary_type_index_ldp_result.json\"\n",
    "typeIndexLdpDataset = generateDatasetFromResults(typeIndexLdpPathResult, typeIndexLdpPathSummary, \"type index and ldp\")"
   ]
  },
  {
   "cell_type": "code",
   "execution_count": 4,
   "id": "53f76aa3-e72c-453a-b3fe-4c32af16e14d",
   "metadata": {},
   "outputs": [],
   "source": [
    "shapeIndex20PathResult = \"../results/shape-entry-20-percent/shape_index_result.json\"\n",
    "shapeIndex20PathSummary = \"../results/shape-entry-20-percent/summary_shape_index_result.json\"\n",
    "shapeIndex20Dataset = generateDatasetFromResults(shapeIndex20PathResult, shapeIndex20PathSummary, \"shape index entries 20%\")"
   ]
  },
  {
   "cell_type": "code",
   "execution_count": 5,
   "id": "0089f5d0-9fa7-4b77-b599-5d82a5a881f5",
   "metadata": {},
   "outputs": [],
   "source": [
    "shapeIndex50PathResult = \"../results/shape-entry-50-percent/shape_index_result.json\"\n",
    "shapeIndex50PathSummary = \"../results/shape-entry-50-percent/summary_shape_index_result.json\"\n",
    "shapeIndex50Dataset = generateDatasetFromResults(shapeIndex50PathResult, shapeIndex50PathSummary, \"shape index entries 50%\")"
   ]
  },
  {
   "cell_type": "code",
   "execution_count": 6,
   "id": "05795c1c-7871-42f1-9f48-bf196795df60",
   "metadata": {},
   "outputs": [],
   "source": [
    "shapeIndex80PathResult = \"../results/shape-entry-80-percent/shape_index_result.json\"\n",
    "shapeIndex80PathSummary = \"../results/shape-entry-80-percent/summary_shape_index_result.json\"\n",
    "shapeIndex80Dataset = generateDatasetFromResults(shapeIndex80PathResult, shapeIndex80PathSummary, \"shape index entries 80%\")"
   ]
  },
  {
   "cell_type": "code",
   "execution_count": 25,
   "id": "f3c83db2-94d8-48c5-b0aa-1edf39812560",
   "metadata": {},
   "outputs": [],
   "source": [
    "shapeIndex0PathResult = \"../results/shape-index-0-percent/shape_index_result.json\"\n",
    "shapeIndex0PathSummary = \"../results/shape-index-0-percent/summary_shape_index_result.json\"\n",
    "shapeIndex0NetworkDataset = generateDatasetFromResults(shapeIndex0PathResult, shapeIndex0PathSummary, \"shape index network 0%\")"
   ]
  },
  {
   "cell_type": "code",
   "execution_count": 26,
   "id": "585f9f34-3189-485c-a530-aa4fc809b993",
   "metadata": {},
   "outputs": [],
   "source": [
    "shapeIndex20PathResult = \"../results/shape-index-20-percent/shape_index_result.json\"\n",
    "shapeIndex20PathSummary = \"../results/shape-index-20-percent/summary_shape_index_result.json\"\n",
    "shapeIndex20NetworkDataset = generateDatasetFromResults(shapeIndex20PathResult, shapeIndex20PathSummary, \"shape index network 20%\")"
   ]
  },
  {
   "cell_type": "code",
   "execution_count": 27,
   "id": "720f7611-4617-4e30-903c-e3d7fd8e3835",
   "metadata": {},
   "outputs": [],
   "source": [
    "shapeIndex50PathResult = \"../results/shape-index-50-percent/shape_index_result.json\"\n",
    "shapeIndex50PathSummary = \"../results/shape-index-50-percent/summary_shape_index_result.json\"\n",
    "shapeIndex50NetworkDataset = generateDatasetFromResults(shapeIndex50PathResult, shapeIndex50PathSummary, \"shape index network 50%\")"
   ]
  },
  {
   "cell_type": "code",
   "execution_count": 28,
   "id": "8155d51b-355e-40f8-affb-38728a78efdd",
   "metadata": {},
   "outputs": [],
   "source": [
    "shapeIndex80PathResult = \"../results/shape-index-80-percent/shape_index_result.json\"\n",
    "shapeIndex80PathSummary = \"../results/shape-index-80-percent/summary_shape_index_result.json\"\n",
    "shapeIndex80NetworkDataset = generateDatasetFromResults(shapeIndex80PathResult, shapeIndex80PathSummary, \"shape index network 80%\")"
   ]
  },
  {
   "cell_type": "markdown",
   "id": "29acb4ca-d5c9-4d15-b628-dc66b963f6ee",
   "metadata": {},
   "source": [
    "# Statistical significance"
   ]
  },
  {
   "cell_type": "code",
   "execution_count": 7,
   "id": "b4c0ec05-5ffa-42f8-aa58-709fcb458fef",
   "metadata": {},
   "outputs": [],
   "source": [
    "head = [\"query template\", \"relation execution time\", \"p-value\"]"
   ]
  },
  {
   "cell_type": "code",
   "execution_count": 8,
   "id": "8e95e028-8333-44f0-b2af-deb0e8e65ecc",
   "metadata": {},
   "outputs": [],
   "source": [
    "def generateTableInfo(results):  \n",
    "    rows = []\n",
    "    p_value_significant = 0.05\n",
    "    for query_template, value in results.items():\n",
    "        relation  = \"-\"\n",
    "        p_value= \"-\"\n",
    "        if value[\"greater\"] is not None:\n",
    "            if value[\"different\"] > p_value_significant:\n",
    "                relation = \"similar\"\n",
    "                p_value = f\"{value[\"greater\"]:.2E} (different distribution)\"\n",
    "            elif value[\"greater\"] < p_value_significant:\n",
    "                relation = \"greater\"\n",
    "                p_value = f\"{value[\"greater\"]:.2E}\"\n",
    "            elif value[\"lesser\"] < p_value_significant:\n",
    "                relation = \"lesser\"\n",
    "                p_value = f\"{value[\"lesser\"]:.2E}\"\n",
    "        if relation == \"-\":\n",
    "            continue\n",
    "        row = [\n",
    "            query_template,\n",
    "            relation,\n",
    "            p_value,\n",
    "              ]\n",
    "        rows.append(row)\n",
    "    return rows"
   ]
  },
  {
   "cell_type": "markdown",
   "id": "687b3de3-05be-4672-8453-bcd3e7f58ca1",
   "metadata": {
    "jp-MarkdownHeadingCollapsed": true
   },
   "source": [
    "## Shape index vs the state of the art"
   ]
  },
  {
   "cell_type": "code",
   "execution_count": 9,
   "id": "1cd180f4-b262-4f5a-870f-6be7990442de",
   "metadata": {},
   "outputs": [],
   "source": [
    "results = {}"
   ]
  },
  {
   "cell_type": "code",
   "execution_count": 10,
   "id": "d9cf1e8f-4da4-4f04-913a-05bffffe05ce",
   "metadata": {},
   "outputs": [],
   "source": [
    "for template, execution_times in shapeIndexDataset.executionTime.items():\n",
    "    \n",
    "    (p_value_greater, p_value_different, p_value_lesser) = statisticalSignificanceByTemplate(\n",
    "        execution_times,\n",
    "        typeIndexLdpDataset.executionTime[template]\n",
    "    )\n",
    "\n",
    "    results[template] = {\n",
    "        \"greater\": p_value_greater,\n",
    "        \"lesser\": p_value_lesser,\n",
    "        \"different\":p_value_different,\n",
    "    }"
   ]
  },
  {
   "cell_type": "code",
   "execution_count": 11,
   "id": "6ec81442-4b01-4f4f-8aee-398df16f1135",
   "metadata": {},
   "outputs": [],
   "source": [
    "rows = generateTableInfo(results)"
   ]
  },
  {
   "cell_type": "code",
   "execution_count": 12,
   "id": "855e9832-8a76-46dc-91f8-a18c15ff6546",
   "metadata": {},
   "outputs": [
    {
     "name": "stdout",
     "output_type": "stream",
     "text": [
      "| query template         | relation execution time   | p-value                           |\n",
      "|------------------------|---------------------------|-----------------------------------|\n",
      "| interactive-discover-1 | lesser                    | 1.14E-36                          |\n",
      "| interactive-discover-2 | lesser                    | 4.42E-04                          |\n",
      "| interactive-discover-3 | similar                   | 7.47E-01 (different distribution) |\n",
      "| interactive-discover-4 | lesser                    | 2.07E-17                          |\n",
      "| interactive-discover-5 | lesser                    | 5.58E-03                          |\n",
      "| interactive-discover-6 | similar                   | 2.56E-01 (different distribution) |\n",
      "| interactive-discover-7 | similar                   | 7.83E-01 (different distribution) |\n",
      "| interactive-short-1    | lesser                    | 1.12E-83                          |\n",
      "| interactive-short-4    | greater                   | 3.76E-22                          |\n",
      "| interactive-short-5    | lesser                    | 3.12E-17                          |\n"
     ]
    }
   ],
   "source": [
    "print(tabulate(rows, headers=head, tablefmt=\"github\"))"
   ]
  },
  {
   "cell_type": "markdown",
   "id": "251aa7d9-d394-4e6d-a06f-7e7c9cbd374a",
   "metadata": {
    "jp-MarkdownHeadingCollapsed": true
   },
   "source": [
    "## shape index 20 percent entries vs shape index"
   ]
  },
  {
   "cell_type": "code",
   "execution_count": 13,
   "id": "3449a275-4141-477b-a5b7-fcc80b176bf2",
   "metadata": {},
   "outputs": [],
   "source": [
    "results = {}"
   ]
  },
  {
   "cell_type": "code",
   "execution_count": 14,
   "id": "a65bf201-4340-4456-91ab-bf3f1004f4b3",
   "metadata": {},
   "outputs": [],
   "source": [
    "for template, execution_times in shapeIndex20Dataset.executionTime.items():\n",
    "    \n",
    "    (p_value_greater, p_value_different, p_value_lesser) = statisticalSignificanceByTemplate(\n",
    "        execution_times,\n",
    "        shapeIndexDataset.executionTime[template]\n",
    "    )\n",
    "\n",
    "    results[template] = {\n",
    "        \"greater\": p_value_greater,\n",
    "        \"lesser\": p_value_lesser,\n",
    "        \"different\":p_value_different,\n",
    "    }"
   ]
  },
  {
   "cell_type": "code",
   "execution_count": 15,
   "id": "52a7e3ac-3358-4f07-82a2-3abf37435302",
   "metadata": {},
   "outputs": [],
   "source": [
    "rows = generateTableInfo(results)"
   ]
  },
  {
   "cell_type": "code",
   "execution_count": 16,
   "id": "e15fee77-af73-4239-9ebd-6a2c4dd78211",
   "metadata": {},
   "outputs": [
    {
     "name": "stdout",
     "output_type": "stream",
     "text": [
      "| query template         | relation execution time   | p-value                           |\n",
      "|------------------------|---------------------------|-----------------------------------|\n",
      "| interactive-discover-1 | similar                   | 3.53E-01 (different distribution) |\n",
      "| interactive-discover-2 | lesser                    | 3.62E-23                          |\n",
      "| interactive-discover-3 | lesser                    | 6.74E-05                          |\n",
      "| interactive-discover-4 | similar                   | 7.71E-01 (different distribution) |\n",
      "| interactive-discover-5 | greater                   | 1.25E-02                          |\n",
      "| interactive-discover-6 | lesser                    | 8.19E-16                          |\n",
      "| interactive-discover-7 | lesser                    | 2.22E-16                          |\n",
      "| interactive-short-1    | greater                   | 1.84E-31                          |\n",
      "| interactive-short-4    | lesser                    | 1.17E-02                          |\n",
      "| interactive-short-5    | similar                   | 7.75E-02 (different distribution) |\n"
     ]
    }
   ],
   "source": [
    "print(tabulate(rows, headers=head, tablefmt=\"github\"))"
   ]
  },
  {
   "cell_type": "markdown",
   "id": "8cf9a5da-6742-46df-971a-4cfe80ba51bf",
   "metadata": {
    "jp-MarkdownHeadingCollapsed": true
   },
   "source": [
    "## shape index 50 percent entries vs shape index"
   ]
  },
  {
   "cell_type": "code",
   "execution_count": 17,
   "id": "ca53656d-dd92-4015-9b0b-5ad7944c4c3d",
   "metadata": {},
   "outputs": [],
   "source": [
    "results = {}"
   ]
  },
  {
   "cell_type": "code",
   "execution_count": 18,
   "id": "ebb952ed-cd84-42e9-81fa-21622122ed6a",
   "metadata": {},
   "outputs": [],
   "source": [
    "for template, execution_times in shapeIndex50Dataset.executionTime.items():\n",
    "    \n",
    "    (p_value_greater, p_value_different, p_value_lesser) = statisticalSignificanceByTemplate(\n",
    "        execution_times,\n",
    "        shapeIndexDataset.executionTime[template]\n",
    "    )\n",
    "\n",
    "    results[template] = {\n",
    "        \"greater\": p_value_greater,\n",
    "        \"lesser\": p_value_lesser,\n",
    "        \"different\":p_value_different,\n",
    "    }"
   ]
  },
  {
   "cell_type": "code",
   "execution_count": 19,
   "id": "707caa0c-34cb-4bb2-bd9d-6dfb12f77e16",
   "metadata": {},
   "outputs": [],
   "source": [
    "rows = generateTableInfo(results)"
   ]
  },
  {
   "cell_type": "code",
   "execution_count": 20,
   "id": "37942a4d-7692-487c-8796-0177aff2c3a0",
   "metadata": {},
   "outputs": [
    {
     "name": "stdout",
     "output_type": "stream",
     "text": [
      "| query template         | relation execution time   | p-value                           |\n",
      "|------------------------|---------------------------|-----------------------------------|\n",
      "| interactive-discover-1 | greater                   | 1.07E-04                          |\n",
      "| interactive-discover-2 | lesser                    | 1.69E-17                          |\n",
      "| interactive-discover-3 | similar                   | 9.06E-01 (different distribution) |\n",
      "| interactive-discover-4 | greater                   | 1.52E-03                          |\n",
      "| interactive-discover-5 | greater                   | 1.29E-04                          |\n",
      "| interactive-discover-6 | lesser                    | 4.65E-17                          |\n",
      "| interactive-discover-7 | lesser                    | 4.49E-17                          |\n",
      "| interactive-short-1    | greater                   | 1.12E-83                          |\n",
      "| interactive-short-4    | lesser                    | 1.22E-08                          |\n",
      "| interactive-short-5    | similar                   | 5.22E-01 (different distribution) |\n"
     ]
    }
   ],
   "source": [
    "print(tabulate(rows, headers=head, tablefmt=\"github\"))"
   ]
  },
  {
   "cell_type": "markdown",
   "id": "d865a169-c41f-4d42-bcbe-5769b6382d27",
   "metadata": {},
   "source": [
    "## shape index 80 percent entries vs shape index"
   ]
  },
  {
   "cell_type": "code",
   "execution_count": 21,
   "id": "5dcca1a4-9a27-4882-b23b-bb99dffe52d1",
   "metadata": {},
   "outputs": [],
   "source": [
    "results = {}"
   ]
  },
  {
   "cell_type": "code",
   "execution_count": 22,
   "id": "3070d97e-ae1a-45f9-8f07-1bc485dae5c1",
   "metadata": {},
   "outputs": [],
   "source": [
    "for template, execution_times in shapeIndex80Dataset.executionTime.items():\n",
    "    \n",
    "    (p_value_greater, p_value_different, p_value_lesser) = statisticalSignificanceByTemplate(\n",
    "        execution_times,\n",
    "        shapeIndexDataset.executionTime[template]\n",
    "    )\n",
    "\n",
    "    results[template] = {\n",
    "        \"greater\": p_value_greater,\n",
    "        \"lesser\": p_value_lesser,\n",
    "        \"different\":p_value_different,\n",
    "    }"
   ]
  },
  {
   "cell_type": "code",
   "execution_count": 23,
   "id": "814ad6aa-0e4f-4e89-942e-12d37770d680",
   "metadata": {},
   "outputs": [],
   "source": [
    "rows = generateTableInfo(results)"
   ]
  },
  {
   "cell_type": "code",
   "execution_count": 24,
   "id": "22b8162e-1a1f-4038-82aa-3c78074a56f8",
   "metadata": {},
   "outputs": [
    {
     "name": "stdout",
     "output_type": "stream",
     "text": [
      "| query template         | relation execution time   | p-value                           |\n",
      "|------------------------|---------------------------|-----------------------------------|\n",
      "| interactive-discover-1 | similar                   | 5.01E-01 (different distribution) |\n",
      "| interactive-discover-2 | lesser                    | 1.69E-18                          |\n",
      "| interactive-discover-3 | lesser                    | 3.97E-03                          |\n",
      "| interactive-discover-4 | similar                   | 4.72E-01 (different distribution) |\n",
      "| interactive-discover-5 | similar                   | 1.00E-01 (different distribution) |\n",
      "| interactive-discover-6 | lesser                    | 4.44E-17                          |\n",
      "| interactive-discover-7 | lesser                    | 4.44E-17                          |\n",
      "| interactive-short-1    | greater                   | 1.12E-83                          |\n",
      "| interactive-short-4    | lesser                    | 3.08E-13                          |\n",
      "| interactive-short-5    | greater                   | 3.50E-08                          |\n"
     ]
    }
   ],
   "source": [
    "print(tabulate(rows, headers=head, tablefmt=\"github\"))"
   ]
  },
  {
   "cell_type": "markdown",
   "id": "950dacec-5673-41bd-847f-2e38b9f1a830",
   "metadata": {},
   "source": [
    "## shape index 0 percent network vs shape index"
   ]
  },
  {
   "cell_type": "code",
   "execution_count": 41,
   "id": "1d6fb3eb-bf9e-4021-96ef-ae4c5ed6acee",
   "metadata": {},
   "outputs": [],
   "source": [
    "results = {}"
   ]
  },
  {
   "cell_type": "code",
   "execution_count": 42,
   "id": "35721b81-280a-4947-b2f7-3a80deb7a985",
   "metadata": {},
   "outputs": [],
   "source": [
    "for template, execution_times in shapeIndex0NetworkDataset.executionTime.items():\n",
    "    \n",
    "    (p_value_greater, p_value_different, p_value_lesser) = statisticalSignificanceByTemplate(\n",
    "        execution_times,\n",
    "        shapeIndexDataset.executionTime[template]\n",
    "    )\n",
    "\n",
    "    results[template] = {\n",
    "        \"greater\": p_value_greater,\n",
    "        \"lesser\": p_value_lesser,\n",
    "        \"different\":p_value_different,\n",
    "    }"
   ]
  },
  {
   "cell_type": "code",
   "execution_count": 43,
   "id": "a1549e9a-d65a-4bc3-8184-51410aac0eb1",
   "metadata": {},
   "outputs": [],
   "source": [
    "rows = generateTableInfo(results)"
   ]
  },
  {
   "cell_type": "code",
   "execution_count": 44,
   "id": "71a27894-474f-407f-b1cd-b87c82eb5f3e",
   "metadata": {},
   "outputs": [
    {
     "name": "stdout",
     "output_type": "stream",
     "text": [
      "| query template         | relation execution time   | p-value                           |\n",
      "|------------------------|---------------------------|-----------------------------------|\n",
      "| interactive-discover-1 | greater                   | 3.76E-37                          |\n",
      "| interactive-discover-2 | greater                   | 1.24E-02                          |\n",
      "| interactive-discover-3 | similar                   | 3.72E-01 (different distribution) |\n",
      "| interactive-discover-4 | greater                   | 1.53E-16                          |\n",
      "| interactive-discover-5 | similar                   | 2.23E-01 (different distribution) |\n",
      "| interactive-discover-6 | lesser                    | 5.35E-06                          |\n",
      "| interactive-discover-7 | lesser                    | 4.59E-05                          |\n",
      "| interactive-short-1    | greater                   | 1.44E-83                          |\n",
      "| interactive-short-4    | lesser                    | 5.38E-18                          |\n",
      "| interactive-short-5    | greater                   | 8.88E-14                          |\n"
     ]
    }
   ],
   "source": [
    "print(tabulate(rows, headers=head, tablefmt=\"github\"))"
   ]
  },
  {
   "cell_type": "markdown",
   "id": "88da7d52-1dff-4f2f-b945-a330f1e1aff0",
   "metadata": {},
   "source": [
    "## shape index 20 percent network vs shape index"
   ]
  },
  {
   "cell_type": "code",
   "execution_count": 29,
   "id": "c25c3850-c1af-4360-8796-d716a6d1a3e8",
   "metadata": {},
   "outputs": [],
   "source": [
    "results = {}"
   ]
  },
  {
   "cell_type": "code",
   "execution_count": 30,
   "id": "5bc6c353-dd0b-4397-9bce-92d95576879f",
   "metadata": {},
   "outputs": [],
   "source": [
    "for template, execution_times in shapeIndex20NetworkDataset.executionTime.items():\n",
    "    \n",
    "    (p_value_greater, p_value_different, p_value_lesser) = statisticalSignificanceByTemplate(\n",
    "        execution_times,\n",
    "        shapeIndexDataset.executionTime[template]\n",
    "    )\n",
    "\n",
    "    results[template] = {\n",
    "        \"greater\": p_value_greater,\n",
    "        \"lesser\": p_value_lesser,\n",
    "        \"different\":p_value_different,\n",
    "    }"
   ]
  },
  {
   "cell_type": "code",
   "execution_count": 31,
   "id": "27a7961b-61eb-4c50-bfb8-04046ee634e3",
   "metadata": {},
   "outputs": [],
   "source": [
    "rows = generateTableInfo(results)"
   ]
  },
  {
   "cell_type": "code",
   "execution_count": 32,
   "id": "159ad4d3-18a5-4d1c-b5e7-7b3830bad7d7",
   "metadata": {},
   "outputs": [
    {
     "name": "stdout",
     "output_type": "stream",
     "text": [
      "| query template         | relation execution time   | p-value                           |\n",
      "|------------------------|---------------------------|-----------------------------------|\n",
      "| interactive-discover-1 | greater                   | 8.73E-36                          |\n",
      "| interactive-discover-2 | greater                   | 2.16E-02                          |\n",
      "| interactive-discover-3 | similar                   | 2.28E-01 (different distribution) |\n",
      "| interactive-discover-4 | greater                   | 6.38E-17                          |\n",
      "| interactive-discover-5 | similar                   | 7.28E-02 (different distribution) |\n",
      "| interactive-discover-6 | lesser                    | 9.28E-06                          |\n",
      "| interactive-discover-7 | lesser                    | 1.97E-04                          |\n",
      "| interactive-short-1    | greater                   | 1.12E-83                          |\n",
      "| interactive-short-4    | lesser                    | 1.30E-13                          |\n",
      "| interactive-short-5    | greater                   | 1.01E-09                          |\n"
     ]
    }
   ],
   "source": [
    "print(tabulate(rows, headers=head, tablefmt=\"github\"))"
   ]
  },
  {
   "cell_type": "markdown",
   "id": "fa88ab44-934d-436d-b008-84e556c3b75c",
   "metadata": {},
   "source": [
    "## shape index 50 percent network vs shape index"
   ]
  },
  {
   "cell_type": "code",
   "execution_count": 33,
   "id": "807afd40-7406-469d-9051-cb5a00d6f9d8",
   "metadata": {},
   "outputs": [],
   "source": [
    "results = {}"
   ]
  },
  {
   "cell_type": "code",
   "execution_count": 34,
   "id": "7a59240d-0bc6-4787-a862-c5b67e228c48",
   "metadata": {},
   "outputs": [],
   "source": [
    "for template, execution_times in shapeIndex50NetworkDataset.executionTime.items():\n",
    "    \n",
    "    (p_value_greater, p_value_different, p_value_lesser) = statisticalSignificanceByTemplate(\n",
    "        execution_times,\n",
    "        shapeIndexDataset.executionTime[template]\n",
    "    )\n",
    "\n",
    "    results[template] = {\n",
    "        \"greater\": p_value_greater,\n",
    "        \"lesser\": p_value_lesser,\n",
    "        \"different\":p_value_different,\n",
    "    }"
   ]
  },
  {
   "cell_type": "code",
   "execution_count": 35,
   "id": "86687ea5-4767-41f3-b4b5-ecd0dd5a2306",
   "metadata": {},
   "outputs": [],
   "source": [
    "rows = generateTableInfo(results)"
   ]
  },
  {
   "cell_type": "code",
   "execution_count": 36,
   "id": "49aa32d6-e400-4eaa-b7a3-c9e46801c436",
   "metadata": {},
   "outputs": [
    {
     "name": "stdout",
     "output_type": "stream",
     "text": [
      "| query template         | relation execution time   | p-value                           |\n",
      "|------------------------|---------------------------|-----------------------------------|\n",
      "| interactive-discover-1 | similar                   | 3.71E-01 (different distribution) |\n",
      "| interactive-discover-2 | similar                   | 3.92E-01 (different distribution) |\n",
      "| interactive-discover-3 | similar                   | 6.65E-01 (different distribution) |\n",
      "| interactive-discover-4 | similar                   | 5.72E-01 (different distribution) |\n",
      "| interactive-discover-5 | similar                   | 2.73E-01 (different distribution) |\n",
      "| interactive-discover-6 | similar                   | 5.45E-01 (different distribution) |\n",
      "| interactive-discover-7 | similar                   | 3.68E-01 (different distribution) |\n",
      "| interactive-short-1    | similar                   | 7.26E-01 (different distribution) |\n",
      "| interactive-short-4    | lesser                    | 7.12E-05                          |\n",
      "| interactive-short-5    | greater                   | 3.73E-03                          |\n"
     ]
    }
   ],
   "source": [
    "print(tabulate(rows, headers=head, tablefmt=\"github\"))"
   ]
  },
  {
   "cell_type": "markdown",
   "id": "ead23b4b-318a-445d-ba87-de19dd6d312d",
   "metadata": {},
   "source": [
    "## shape index 80 percent network vs shape index"
   ]
  },
  {
   "cell_type": "code",
   "execution_count": 37,
   "id": "b6c2ff79-c434-441a-b634-aba6bb589e60",
   "metadata": {},
   "outputs": [],
   "source": [
    "results = {}"
   ]
  },
  {
   "cell_type": "code",
   "execution_count": 38,
   "id": "94e098f6-05ad-46ce-8a7f-0ca352066c55",
   "metadata": {},
   "outputs": [],
   "source": [
    "for template, execution_times in shapeIndex80NetworkDataset.executionTime.items():\n",
    "    \n",
    "    (p_value_greater, p_value_different, p_value_lesser) = statisticalSignificanceByTemplate(\n",
    "        execution_times,\n",
    "        shapeIndexDataset.executionTime[template]\n",
    "    )\n",
    "\n",
    "    results[template] = {\n",
    "        \"greater\": p_value_greater,\n",
    "        \"lesser\": p_value_lesser,\n",
    "        \"different\":p_value_different,\n",
    "    }"
   ]
  },
  {
   "cell_type": "code",
   "execution_count": 39,
   "id": "db9775bd-773e-42e7-9d56-f5eb16bc4dab",
   "metadata": {},
   "outputs": [],
   "source": [
    "rows = generateTableInfo(results)"
   ]
  },
  {
   "cell_type": "code",
   "execution_count": 40,
   "id": "390210db-2367-45c0-a1f1-414c2c23af61",
   "metadata": {},
   "outputs": [
    {
     "name": "stdout",
     "output_type": "stream",
     "text": [
      "| query template         | relation execution time   | p-value                           |\n",
      "|------------------------|---------------------------|-----------------------------------|\n",
      "| interactive-discover-1 | similar                   | 6.50E-01 (different distribution) |\n",
      "| interactive-discover-2 | similar                   | 5.17E-01 (different distribution) |\n",
      "| interactive-discover-3 | similar                   | 4.38E-01 (different distribution) |\n",
      "| interactive-discover-4 | similar                   | 6.35E-01 (different distribution) |\n",
      "| interactive-discover-5 | similar                   | 7.73E-01 (different distribution) |\n",
      "| interactive-discover-6 | similar                   | 4.67E-01 (different distribution) |\n",
      "| interactive-discover-7 | similar                   | 4.48E-01 (different distribution) |\n",
      "| interactive-short-1    | similar                   | 8.65E-01 (different distribution) |\n",
      "| interactive-short-4    | lesser                    | 8.40E-03                          |\n",
      "| interactive-short-5    | similar                   | 3.48E-02 (different distribution) |\n"
     ]
    }
   ],
   "source": [
    "print(tabulate(rows, headers=head, tablefmt=\"github\"))"
   ]
  },
  {
   "cell_type": "code",
   "execution_count": null,
   "id": "89faadf1-401b-4b71-94b5-b90070a9cad5",
   "metadata": {},
   "outputs": [],
   "source": []
  }
 ],
 "metadata": {
  "kernelspec": {
   "display_name": "Python 3 (ipykernel)",
   "language": "python",
   "name": "python3"
  },
  "language_info": {
   "codemirror_mode": {
    "name": "ipython",
    "version": 3
   },
   "file_extension": ".py",
   "mimetype": "text/x-python",
   "name": "python",
   "nbconvert_exporter": "python",
   "pygments_lexer": "ipython3",
   "version": "3.12.6"
  }
 },
 "nbformat": 4,
 "nbformat_minor": 5
}
