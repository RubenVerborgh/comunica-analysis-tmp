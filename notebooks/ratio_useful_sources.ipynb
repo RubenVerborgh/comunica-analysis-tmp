{
 "cells": [
  {
   "cell_type": "code",
   "execution_count": 1,
   "id": "f56753d3-cad8-43b7-9d61-7a1303b196fa",
   "metadata": {},
   "outputs": [],
   "source": [
    "import json\n",
    "from texttable import Texttable\n",
    "import latextable\n",
    "from tabulate import tabulate\n",
    "import sys\n",
    "file_directory = \"../\"\n",
    "sys.path.append(file_directory)\n",
    "from generateDataset import generateDatasetFromResults "
   ]
  },
  {
   "cell_type": "code",
   "execution_count": 2,
   "id": "c5568901-5b97-492d-a7a7-97819edff9fb",
   "metadata": {},
   "outputs": [],
   "source": [
    "sourceFilePath = \"../results/oracle/sources.json\"\n",
    "sources = None\n",
    "with open(sourceFilePath, 'rb') as rf:\n",
    "    sources = json.load(rf)"
   ]
  },
  {
   "cell_type": "code",
   "execution_count": 3,
   "id": "4ad5243d-883b-40d5-a5b9-d76b13aefc52",
   "metadata": {},
   "outputs": [],
   "source": [
    "shapeIndexPathResult = \"../results/standard/shape_index_result.json\"\n",
    "shapeIndexPathSummary = \"../results/standard/summary_shape_index_result.json\"\n",
    "shapeIndexDataset = generateDatasetFromResults(shapeIndexPathResult, shapeIndexPathSummary, \"shapeIndex\")"
   ]
  },
  {
   "cell_type": "code",
   "execution_count": 4,
   "id": "f2bb0514-4721-4365-a20e-752406b9d350",
   "metadata": {},
   "outputs": [],
   "source": [
    "typeIndexLdpPathResult = \"../results/standard/type_index_ldp_result.json\"\n",
    "typeIndexLdpPathSummary = \"../results/standard/summary_type_index_ldp_result.json\"\n",
    "typeIndexLdpDataset = generateDatasetFromResults(typeIndexLdpPathResult, typeIndexLdpPathSummary, \"typeIndexLdp\")"
   ]
  },
  {
   "cell_type": "code",
   "execution_count": 5,
   "id": "f5fbbbef-7e13-4f28-abc7-cd34bbc3ba2f",
   "metadata": {
    "scrolled": true
   },
   "outputs": [],
   "source": [
    "resShapeIndex = {}\n",
    "for queryTemplate, queryResults in shapeIndexDataset.numberHttpRequest.items():\n",
    "    resShapeIndex[queryTemplate] = []\n",
    "    currentSources = sources[queryTemplate]\n",
    "    for i, nHttpRequest in enumerate(queryResults):\n",
    "        if nHttpRequest is not None and currentSources[\"v{}\".format(i)] is not None:\n",
    "            oracleNHttpRequest = len(currentSources[\"v{}\".format(i)])\n",
    "            resShapeIndex[queryTemplate].append(oracleNHttpRequest/nHttpRequest)\n",
    "        else:\n",
    "            resShapeIndex[queryTemplate].append(None)"
   ]
  },
  {
   "cell_type": "code",
   "execution_count": 6,
   "id": "1902a9fb-793c-47ac-9a65-27651062f39b",
   "metadata": {},
   "outputs": [],
   "source": [
    "resTypeIndex = {}\n",
    "for queryTemplate, queryResults in typeIndexLdpDataset.numberHttpRequest.items():\n",
    "    resTypeIndex[queryTemplate] = []\n",
    "    currentSources = sources[queryTemplate]\n",
    "    for i, nHttpRequest in enumerate(queryResults):\n",
    "        if nHttpRequest is not None and currentSources[\"v{}\".format(i)] is not None:\n",
    "            oracleNHttpRequest = len(currentSources[\"v{}\".format(i)])\n",
    "            resTypeIndex[queryTemplate].append(oracleNHttpRequest/nHttpRequest)\n",
    "        else:\n",
    "            resTypeIndex[queryTemplate].append(None)"
   ]
  },
  {
   "cell_type": "code",
   "execution_count": 7,
   "id": "39c0f72c-b5cc-4c4b-900c-e67efa79ee99",
   "metadata": {},
   "outputs": [],
   "source": [
    "head = [\"Query template\", \"v0\", \"v1\", \"v2\", \"v3\", \"v4\"]"
   ]
  },
  {
   "cell_type": "code",
   "execution_count": 8,
   "id": "d9873b3c-d950-467c-a720-db86ffefe76a",
   "metadata": {},
   "outputs": [],
   "source": [
    "rowsShapeIndex = []\n",
    "for queryTemplate, ratios in resShapeIndex.items():\n",
    "    currentRow = [queryTemplate] + ratios\n",
    "    rowsShapeIndex.append(currentRow)"
   ]
  },
  {
   "cell_type": "code",
   "execution_count": 9,
   "id": "6c0e6f68-2f98-49f8-b447-3deb38fca1a8",
   "metadata": {},
   "outputs": [
    {
     "name": "stdout",
     "output_type": "stream",
     "text": [
      "| Query template         |        v0 |        v1 |        v2 |        v3 |        v4 |\n",
      "|------------------------|-----------|-----------|-----------|-----------|-----------|\n",
      "| interactive-discover-1 | 0.0689655 | 0.0666667 | 0.0555556 | 0.424242  | 0.0666667 |\n",
      "| interactive-discover-2 | 0.354331  | 0.133333  | 0.105263  | 0.908257  | 0.418033  |\n",
      "| interactive-discover-3 | 0.367589  | 0.704082  | 0.553398  | 0.622642  | 0.604396  |\n",
      "| interactive-discover-4 | 0.129032  | 0.0930233 | 0.190476  | 0.0292683 | 0.183099  |\n",
      "| interactive-discover-5 | 0.0708661 | 0.133333  | 0.105263  | 0.0183486 | 0.131148  |\n",
      "| interactive-discover-6 |           | 0.0512821 | 0.0740741 |           | 0.406015  |\n",
      "| interactive-discover-7 |           | 0.0769231 | 0.111111  |           | 0.0225564 |\n",
      "| interactive-discover-8 |           |           |           |           |           |\n",
      "| interactive-short-1    | 0.117647  | 0.142857  | 0.117647  | 0.117647  | 0.117647  |\n",
      "| interactive-short-2    |           |           |           |           |           |\n",
      "| interactive-short-3    |           |           |           |           |           |\n",
      "| interactive-short-4    | 0.0625    | 0.0625    | 0.0588235 | 0.0588235 | 0.0625    |\n",
      "| interactive-short-5    | 0.111111  | 0.125     | 0.125     | 0.105263  | 0.04      |\n",
      "| interactive-short-6    |           |           |           |           |           |\n",
      "| interactive-short-7    |           |           |           |           |           |\n"
     ]
    }
   ],
   "source": [
    "print(tabulate(rowsShapeIndex, headers=head, tablefmt=\"github\"))"
   ]
  },
  {
   "cell_type": "code",
   "execution_count": 10,
   "id": "f4c43c01-d212-41e9-ae63-8a593ac83901",
   "metadata": {},
   "outputs": [],
   "source": [
    "rowsTypeIndex = []\n",
    "for queryTemplate, ratios in resTypeIndex.items():\n",
    "    currentRow = [queryTemplate] + ratios\n",
    "    rowsTypeIndex.append(currentRow)"
   ]
  },
  {
   "cell_type": "code",
   "execution_count": 11,
   "id": "a36721eb-f936-4da0-98bf-6cce7b76fecd",
   "metadata": {},
   "outputs": [
    {
     "name": "stdout",
     "output_type": "stream",
     "text": [
      "| Query template         |        v0 |        v1 |        v2 |         v3 |        v4 |\n",
      "|------------------------|-----------|-----------|-----------|------------|-----------|\n",
      "| interactive-discover-1 | 0.0447761 | 0.04      | 0.0434783 | 0.0608696  | 0.0387597 |\n",
      "| interactive-discover-2 | 0.335821  | 0.08      | 0.0869565 | 0.86087    | 0.395349  |\n",
      "| interactive-discover-3 | 0.357692  | 0.45098   | 0.53271   | 0.605505   | 0.589286  |\n",
      "| interactive-discover-4 | 0.0533333 | 0.137931  | 0.148148  | 0.0255319  | 0.0872483 |\n",
      "| interactive-discover-5 | 0.0671642 | 0.08      | 0.0869565 | 0.0173913  | 0.124031  |\n",
      "| interactive-discover-6 |           | 0.08      | 0.0869565 |            | 0.418605  |\n",
      "| interactive-discover-7 |           | 0.12      | 0.130435  |            | 0.0232558 |\n",
      "| interactive-discover-8 |           |           |           |            |           |\n",
      "| interactive-short-1    | 0.0148148 | 0.0769231 | 0.0833333 | 0.00865801 | 0.0153846 |\n",
      "| interactive-short-2    |           |           |           |            |           |\n",
      "| interactive-short-3    |           |           |           |            |           |\n",
      "| interactive-short-4    | 1         | 1         | 0.5       | 0.5        | 1         |\n",
      "| interactive-short-5    | 0.0425532 | 0.0444444 | 0.0183486 | 0.0444444  | 0.0333333 |\n",
      "| interactive-short-6    |           |           |           |            |           |\n",
      "| interactive-short-7    |           |           |           |            |           |\n"
     ]
    }
   ],
   "source": [
    "print(tabulate(rowsTypeIndex, headers=head, tablefmt=\"github\"))"
   ]
  },
  {
   "cell_type": "code",
   "execution_count": null,
   "id": "ad3ccde0-670a-4dc9-84bf-20047e75200e",
   "metadata": {},
   "outputs": [],
   "source": []
  }
 ],
 "metadata": {
  "kernelspec": {
   "display_name": "Python 3 (ipykernel)",
   "language": "python",
   "name": "python3"
  },
  "language_info": {
   "codemirror_mode": {
    "name": "ipython",
    "version": 3
   },
   "file_extension": ".py",
   "mimetype": "text/x-python",
   "name": "python",
   "nbconvert_exporter": "python",
   "pygments_lexer": "ipython3",
   "version": "3.12.6"
  }
 },
 "nbformat": 4,
 "nbformat_minor": 5
}
