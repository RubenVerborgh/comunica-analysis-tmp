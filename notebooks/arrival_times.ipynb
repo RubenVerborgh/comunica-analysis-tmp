{
 "cells": [
  {
   "cell_type": "code",
   "execution_count": 5,
   "id": "ef57c14a-a60d-4c76-b0e1-682fd07544c8",
   "metadata": {},
   "outputs": [],
   "source": [
    "import json\n",
    "from texttable import Texttable\n",
    "import latextable\n",
    "from tabulate import tabulate\n",
    "import sys\n",
    "file_directory = \"../\"\n",
    "sys.path.append(file_directory)\n",
    "from generateDataset import generateDatasetFromResults\n",
    "\n",
    "# NResult, FirstResult, LastResult, ExecTime, dief@24 (20% timeout), dief@60 (50% timeout), dief@96 (80% timeout)  "
   ]
  },
  {
   "cell_type": "code",
   "execution_count": null,
   "id": "5ec8bf0b-32dc-4a3d-8311-4e06838512ff",
   "metadata": {},
   "outputs": [],
   "source": [
    "queries = [\n",
    "    \"interactive-discover-1\",\n",
    "    \"interactive-discover-2\",\n",
    "    \"interactive-discover-3\",\n",
    "    \"interactive-discover-4\",\n",
    "    \"interactive-discover-5\",\n",
    "    \"interactive-discover-6\",\n",
    "    \"interactive-discover-7\",\n",
    "    \"interactive-discover-8\",\n",
    "    \"interactive-short-1\",\n",
    "    \"interactive-short-2\",\n",
    "    \"interactive-short-3\",\n",
    "    \"interactive-short-4\",\n",
    "    \"interactive-short-5\",\n",
    "    \"interactive-short-6\",\n",
    "    \"interactive-short-7\"\n",
    "]"
   ]
  },
  {
   "cell_type": "code",
   "execution_count": 2,
   "id": "d694b335-1fc6-413a-8dd7-68f7285a4f24",
   "metadata": {},
   "outputs": [],
   "source": [
    "shapeIndexPathResult = \"../results/standard/shape_index_result.json\"\n",
    "shapeIndexPathSummary = \"../results/standard/summary_shape_index_result.json\"\n",
    "shapeIndexDataset = generateDatasetFromResults(shapeIndexPathResult, shapeIndexPathSummary, \"shape index\")"
   ]
  },
  {
   "cell_type": "code",
   "execution_count": null,
   "id": "e7a53485-5f94-49ee-a408-89e47315c4a4",
   "metadata": {
    "scrolled": true
   },
   "outputs": [],
   "source": []
  },
  {
   "cell_type": "code",
   "execution_count": null,
   "id": "83c8e9e9-6e4f-4995-9d08-f48db0d0b086",
   "metadata": {},
   "outputs": [],
   "source": []
  }
 ],
 "metadata": {
  "kernelspec": {
   "display_name": "Python 3 (ipykernel)",
   "language": "python",
   "name": "python3"
  },
  "language_info": {
   "codemirror_mode": {
    "name": "ipython",
    "version": 3
   },
   "file_extension": ".py",
   "mimetype": "text/x-python",
   "name": "python",
   "nbconvert_exporter": "python",
   "pygments_lexer": "ipython3",
   "version": "3.13.3"
  }
 },
 "nbformat": 4,
 "nbformat_minor": 5
}
