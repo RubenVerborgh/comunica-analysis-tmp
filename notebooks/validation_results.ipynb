{
 "cells": [
  {
   "cell_type": "code",
   "execution_count": 1,
   "id": "16a11cc2-7ac9-400d-9b20-a4d566bc8751",
   "metadata": {},
   "outputs": [],
   "source": [
    "import json\n",
    "from texttable import Texttable\n",
    "import latextable\n",
    "from tabulate import tabulate\n",
    "import sys\n",
    "file_directory = \"../\"\n",
    "sys.path.append(file_directory)\n",
    "from generateDataset import generateDatasetFromResults\n",
    "from metric import calculatePercentageReductionSeries \n",
    "import matplotlib.pyplot as plt\n",
    "import numpy as np\n",
    "from matplotlib.ticker import MultipleLocator\n",
    "from scipy.optimize import curve_fit\n",
    "from scipy.stats import pearsonr"
   ]
  },
  {
   "cell_type": "code",
   "execution_count": 2,
   "id": "aa820fab-4819-4574-8f7f-41ca3cf7d16b",
   "metadata": {},
   "outputs": [
    {
     "name": "stdout",
     "output_type": "stream",
     "text": [
      "[{'messageContent': '\"About Freddie Mercury, s the lead vocalist and lyricist of the rock band Queen. As a perfoAbout To Be with You,  songwriter working for the label at the time (though exactly what About Round Here,  th\"', 'messageCreationDate': '\"2011-01-05T05:21:15.452Z\"^^http://www.w3.org/2001/XMLSchema#dateTime', 'messageId': '\"412316860440\"^^http://www.w3.org/2001/XMLSchema#long'}, {'messageContent': '\"About Rupert Murdoch, 50s and \\'60s, he acquAbout George Frideric Handel, man-British Baroque cAbout Jane Austen, estimate o\"', 'messageCreationDate': '\"2012-07-20T03:48:53.147Z\"^^http://www.w3.org/2001/XMLSchema#dateTime', 'messageId': '\"1030792151044\"^^http://www.w3.org/2001/XMLSchema#long'}, {'messageContent': '\"About Rupert Murdoch, alised US citizen iAbout Napoleon, tinuation of the waAbout Ferdinand II of Aragon, (1\"', 'messageCreationDate': '\"2010-02-14T20:30:21.451Z\"^^http://www.w3.org/2001/XMLSchema#dateTime', 'messageId': '\"3\"^^http://www.w3.org/2001/XMLSchema#long'}, {'messageContent': '\"About Rupert Murdoch, t newer electronic publishing technoAbout George Frideric Handel,  concertos. Handel was born in 1685,About Kurt Vonne\"', 'messageCreationDate': '\"2011-08-17T06:05:40.595Z\"^^http://www.w3.org/2001/XMLSchema#dateTime', 'messageId': '\"618475290624\"^^http://www.w3.org/2001/XMLSchema#long'}, {'messageContent': '\"About Gilbert du Motier, marquis de Lafayette, ights of Man About Manuel Noriega, 0 \"', 'messageCreationDate': '\"2012-06-03T10:23:21.946Z\"^^http://www.w3.org/2001/XMLSchema#dateTime', 'messageId': '\"962072795586\"^^http://www.w3.org/2001/XMLSchema#long'}, {'messageContent': '\"About George Clooney, d The Descendants (2011). Clooney\\'s humanitarian work includes his advocacy of \"', 'messageCreationDate': '\"2012-06-07T07:41:27.262Z\"^^http://www.w3.org/2001/XMLSchema#dateTime', 'messageId': '\"962072795511\"^^http://www.w3.org/2001/XMLSchema#long'}]\n"
     ]
    },
    {
     "ename": "TypeError",
     "evalue": "unhashable type: 'dict'",
     "output_type": "error",
     "traceback": [
      "\u001b[0;31m---------------------------------------------------------------------------\u001b[0m",
      "\u001b[0;31mTypeError\u001b[0m                                 Traceback (most recent call last)",
      "Cell \u001b[0;32mIn[2], line 3\u001b[0m\n\u001b[1;32m      1\u001b[0m typeIndexLdpPathResult \u001b[38;5;241m=\u001b[39m \u001b[38;5;124m\"\u001b[39m\u001b[38;5;124m../results/standard/type_index_ldp_result.json\u001b[39m\u001b[38;5;124m\"\u001b[39m\n\u001b[1;32m      2\u001b[0m typeIndexLdpPathSummary \u001b[38;5;241m=\u001b[39m \u001b[38;5;124m\"\u001b[39m\u001b[38;5;124m../results/standard/summary_type_index_ldp_result.json\u001b[39m\u001b[38;5;124m\"\u001b[39m\n\u001b[0;32m----> 3\u001b[0m typeIndexLdpDataset \u001b[38;5;241m=\u001b[39m \u001b[43mgenerateDatasetFromResults\u001b[49m\u001b[43m(\u001b[49m\u001b[43mtypeIndexLdpPathResult\u001b[49m\u001b[43m,\u001b[49m\u001b[43m \u001b[49m\u001b[43mtypeIndexLdpPathSummary\u001b[49m\u001b[43m,\u001b[49m\u001b[43m \u001b[49m\u001b[38;5;124;43m\"\u001b[39;49m\u001b[38;5;124;43mtypeIndexLdp\u001b[39;49m\u001b[38;5;124;43m\"\u001b[39;49m\u001b[43m)\u001b[49m\n",
      "File \u001b[0;32m~/Documents/PhD/coding/shapeIndexExperiment/analysis/notebooks/../generateDataset.py:74\u001b[0m, in \u001b[0;36mgenerateDatasetFromResults\u001b[0;34m(filepathFullResuls, filepathSummaryResuls, name)\u001b[0m\n\u001b[1;32m     71\u001b[0m res \u001b[38;5;241m=\u001b[39m divideResultsIntoArrivalTime(\n\u001b[1;32m     72\u001b[0m     repetition[\u001b[38;5;124m'\u001b[39m\u001b[38;5;124mresults\u001b[39m\u001b[38;5;124m'\u001b[39m])\n\u001b[1;32m     73\u001b[0m \u001b[38;5;28mprint\u001b[39m(res[\u001b[38;5;241m0\u001b[39m])\n\u001b[0;32m---> 74\u001b[0m results[queryName][version]\u001b[38;5;241m.\u001b[39mappend(\u001b[38;5;28;43mset\u001b[39;49m\u001b[43m(\u001b[49m\u001b[43mres\u001b[49m\u001b[43m[\u001b[49m\u001b[38;5;241;43m0\u001b[39;49m\u001b[43m]\u001b[49m\u001b[43m)\u001b[49m)\n\u001b[1;32m     75\u001b[0m executionTime[queryName][version]\u001b[38;5;241m.\u001b[39mappend(\n\u001b[1;32m     76\u001b[0m     repetition[\u001b[38;5;124m'\u001b[39m\u001b[38;5;124mexecution_time\u001b[39m\u001b[38;5;124m'\u001b[39m])\n\u001b[1;32m     77\u001b[0m arrivalTimes[queryName][version]\u001b[38;5;241m.\u001b[39mappend(res[\u001b[38;5;241m1\u001b[39m])\n",
      "\u001b[0;31mTypeError\u001b[0m: unhashable type: 'dict'"
     ]
    }
   ],
   "source": [
    "typeIndexLdpPathResult = \"../results/standard/type_index_ldp_result.json\"\n",
    "typeIndexLdpPathSummary = \"../results/standard/summary_type_index_ldp_result.json\"\n",
    "typeIndexLdpDataset = generateDatasetFromResults(typeIndexLdpPathResult, typeIndexLdpPathSummary, \"typeIndexLdp\")"
   ]
  },
  {
   "cell_type": "code",
   "execution_count": 3,
   "id": "b23671a4-a5a8-4bf8-834a-93884ab4c10a",
   "metadata": {},
   "outputs": [],
   "source": [
    "shapeIndexPathResult = \"../results/standard/shape_index_result.json\"\n",
    "shapeIndexPathSummary = \"../results/standard/summary_shape_index_result.json\"\n",
    "shapeIndexDataset = generateDatasetFromResults(shapeIndexPathResult, shapeIndexPathSummary, \"shapeIndex\")"
   ]
  },
  {
   "cell_type": "code",
   "execution_count": 4,
   "id": "067538f4-0ea6-4369-97a2-3c4c4998c429",
   "metadata": {},
   "outputs": [],
   "source": [
    "shapeIndex20PathResult = \"../results/shape-index-20-percent/shape_index_result.json\"\n",
    "shapeIndex20PathSummary = \"../results/shape-index-20-percent/summary_shape_index_result.json\"\n",
    "shapeIndex20Dataset = generateDatasetFromResults(shapeIndex20PathResult, shapeIndex20PathSummary, \"shapeIndex20Percent\")"
   ]
  },
  {
   "cell_type": "code",
   "execution_count": 5,
   "id": "9d457a92-ed08-4d05-8bdb-24a00b4e9bce",
   "metadata": {},
   "outputs": [],
   "source": [
    "shapeIndex50PathResult = \"../results/shape-index-50-percent/shape_index_result.json\"\n",
    "shapeIndex50PathSummary = \"../results/shape-index-50-percent/summary_shape_index_result.json\"\n",
    "shapeIndex50Dataset = generateDatasetFromResults(shapeIndex50PathResult, shapeIndex50PathSummary, \"shapeIndex50Percent\")"
   ]
  },
  {
   "cell_type": "code",
   "execution_count": 6,
   "id": "21a85b37-2173-4a5b-91fd-62f7ec1cfbff",
   "metadata": {},
   "outputs": [],
   "source": [
    "shapeIndex80PathResult = \"../results/shape-index-80-percent/shape_index_result.json\"\n",
    "shapeIndex80PathSummary = \"../results/shape-index-80-percent/summary_shape_index_result.json\"\n",
    "shapeIndex80Dataset = generateDatasetFromResults(shapeIndex80PathResult, shapeIndex80PathSummary, \"shapeIndex80Percent\")"
   ]
  },
  {
   "cell_type": "code",
   "execution_count": 7,
   "id": "f166420e-8742-4d6b-8a83-95af4e6f5f35",
   "metadata": {},
   "outputs": [],
   "source": [
    "shapeIndexInnerPathResult = \"../results/shape-inner/shape_index_result.json\"\n",
    "shapeIndexInnerPathSummary = \"../results/shape-inner/summary_shape_index_result.json\"\n",
    "shapeIndexInnerDataset = generateDatasetFromResults(shapeIndexInnerPathResult, shapeIndexInnerPathSummary, \"shapeInner\")"
   ]
  },
  {
   "cell_type": "code",
   "execution_count": 8,
   "id": "d2462cf0-8862-46c6-ad0c-158b5e4d5e05",
   "metadata": {},
   "outputs": [],
   "source": [
    "shapeIndexMinimalPathResult = \"../results/shape-minimal/shape_index_result.json\"\n",
    "shapeIndexMinimalPathSummary = \"../results/shape-minimal/summary_shape_index_result.json\"\n",
    "shapeIndexMinimalDataset = generateDatasetFromResults(shapeIndexMinimalPathResult, shapeIndexMinimalPathSummary, \"shapeMinimal\")"
   ]
  },
  {
   "cell_type": "code",
   "execution_count": 9,
   "id": "af83c3fa-b8de-4d7c-9968-890150e2cd9e",
   "metadata": {},
   "outputs": [],
   "source": [
    "evalInstances = [shapeIndexDataset, shapeIndex20Dataset, shapeIndex50Dataset, shapeIndex80Dataset, shapeIndexInnerDataset, shapeIndexMinimalDataset]"
   ]
  },
  {
   "cell_type": "code",
   "execution_count": null,
   "id": "6b1a58c5-4f04-40b0-8c8e-b1b077277eb4",
   "metadata": {},
   "outputs": [],
   "source": []
  }
 ],
 "metadata": {
  "kernelspec": {
   "display_name": "Python 3 (ipykernel)",
   "language": "python",
   "name": "python3"
  },
  "language_info": {
   "codemirror_mode": {
    "name": "ipython",
    "version": 3
   },
   "file_extension": ".py",
   "mimetype": "text/x-python",
   "name": "python",
   "nbconvert_exporter": "python",
   "pygments_lexer": "ipython3",
   "version": "3.12.6"
  }
 },
 "nbformat": 4,
 "nbformat_minor": 5
}
