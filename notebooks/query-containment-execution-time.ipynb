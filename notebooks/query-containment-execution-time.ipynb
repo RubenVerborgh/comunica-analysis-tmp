{
 "cells": [
  {
   "cell_type": "code",
   "execution_count": 1,
   "id": "4db0ec7b-0fd5-4dcf-a065-7edf59e26e4d",
   "metadata": {},
   "outputs": [],
   "source": [
    "import json\n",
    "from texttable import Texttable\n",
    "import latextable\n",
    "from tabulate import tabulate"
   ]
  },
  {
   "cell_type": "code",
   "execution_count": 4,
   "id": "856afe84-8cd9-4ae0-8184-fa3eb593b989",
   "metadata": {},
   "outputs": [],
   "source": [
    "fullyBoundedFilePath = \"../results/shape-containment/fully_bounded/time_eval_summary_with_warm_up.json\"\n",
    "resultsFullyBounded = None"
   ]
  },
  {
   "cell_type": "code",
   "execution_count": 5,
   "id": "740d4e00-bc5e-40f6-9f84-57afb8988795",
   "metadata": {},
   "outputs": [],
   "source": [
    "with open(fullyBoundedFilePath, 'rb') as rf:\n",
    "    resultsFullyBounded = json.load(rf)"
   ]
  },
  {
   "cell_type": "code",
   "execution_count": 6,
   "id": "7f0f0ff7-a942-4e42-a934-26f0112904fc",
   "metadata": {},
   "outputs": [],
   "source": [
    "head = [\"Query Template\", \"Average (ms)\", \"std (ms)\", \"max (ms)\"]\n",
    "rows = []"
   ]
  },
  {
   "cell_type": "code",
   "execution_count": 7,
   "id": "582d92a8-6bf1-41d4-af02-f719fbe88bdd",
   "metadata": {},
   "outputs": [],
   "source": [
    "ignoreQueries = [\"interactive-short-1-nocity\", \"interactive-short-3-unidir\", \"interactive-short-4-creator\"]\n",
    "for key, value in resultsFullyBounded.items():\n",
    "    if key not in ignoreQueries:\n",
    "        row = [key, value[\"average\"],value[\"std\"],value[\"max\"] ]\n",
    "        rows.append(row)"
   ]
  },
  {
   "cell_type": "code",
   "execution_count": 8,
   "id": "4b4b631b-c897-468d-9c25-8c6c943d58cc",
   "metadata": {},
   "outputs": [
    {
     "name": "stdout",
     "output_type": "stream",
     "text": [
      "\\begin{table}\n",
      "\t\\begin{center}\n",
      "\t\t\\begin{tabular}{|l|l|l|l|}\n",
      "\t\t\t\\hline\n",
      "\t\t\tQuery Template & Average (ms) & std (ms) & max (ms) \\\\\n",
      "\t\t\t\\hline\n",
      "\t\t\tinteractive-discover-1 & 0.037 & 0.039 & 0.255 \\\\\n",
      "\t\t\t\\hline\n",
      "\t\t\tinteractive-discover-2 & 0.046 & 0.155 & 1.568 \\\\\n",
      "\t\t\t\\hline\n",
      "\t\t\tinteractive-discover-3 & 0.059 & 0.214 & 2.153 \\\\\n",
      "\t\t\t\\hline\n",
      "\t\t\tinteractive-discover-4 & 0.038 & 0.029 & 0.131 \\\\\n",
      "\t\t\t\\hline\n",
      "\t\t\tinteractive-discover-5 & 0.014 & 0.016 & 0.029 \\\\\n",
      "\t\t\t\\hline\n",
      "\t\t\tinteractive-discover-6 & 0.034 & 0.057 & 0.536 \\\\\n",
      "\t\t\t\\hline\n",
      "\t\t\tinteractive-discover-7 & 0.033 & 0.024 & 0.099 \\\\\n",
      "\t\t\t\\hline\n",
      "\t\t\tinteractive-discover-8 & 0.046 & 0.071 & 0.500 \\\\\n",
      "\t\t\t\\hline\n",
      "\t\t\tinteractive-short-1 & 0.071 & 0.051 & 0.438 \\\\\n",
      "\t\t\t\\hline\n",
      "\t\t\tinteractive-short-2 & 0.166 & 0.220 & 2.186 \\\\\n",
      "\t\t\t\\hline\n",
      "\t\t\tinteractive-short-3 & 0.086 & 0.098 & 0.815 \\\\\n",
      "\t\t\t\\hline\n",
      "\t\t\tinteractive-short-4 & 0.035 & 0.082 & 0.819 \\\\\n",
      "\t\t\t\\hline\n",
      "\t\t\tinteractive-short-5 & 0.049 & 0.037 & 0.189 \\\\\n",
      "\t\t\t\\hline\n",
      "\t\t\tinteractive-short-6 & 0.088 & 0.070 & 0.563 \\\\\n",
      "\t\t\t\\hline\n",
      "\t\t\tinteractive-short-7 & 0.157 & 0.121 & 0.808 \\\\\n",
      "\t\t\t\\hline\n",
      "\t\t\\end{tabular}\n",
      "\t\\end{center}\n",
      "\t\\caption{Query-Shape containment computation time is negligeable with the most restrictive shapes of our experiments.}\n",
      "\t\\label{tab:queryShapeContainmentEval}\n",
      "\\end{table}\n"
     ]
    }
   ],
   "source": [
    "caption= \"Query-Shape containment computation time is negligeable with the most restrictive shapes of our experiments.\"\n",
    "label=\"tab:queryShapeContainmentEval\"\n",
    "table_1 = Texttable()\n",
    "table_1.add_rows([head]+ rows)\n",
    "print(latextable.draw_latex(table_1, caption=caption, label=label))"
   ]
  },
  {
   "cell_type": "code",
   "execution_count": 9,
   "id": "f932dd3e-473e-49d6-9410-6df0be9549c7",
   "metadata": {},
   "outputs": [
    {
     "name": "stdout",
     "output_type": "stream",
     "text": [
      "| Query Template         |   Average (ms) |   std (ms) |   max (ms) |\n",
      "|------------------------|----------------|------------|------------|\n",
      "| interactive-discover-1 |      0.0365476 |  0.0388706 |   0.255113 |\n",
      "| interactive-discover-2 |      0.0455865 |  0.155283  |   1.56809  |\n",
      "| interactive-discover-3 |      0.0594948 |  0.213817  |   2.15251  |\n",
      "| interactive-discover-4 |      0.0375369 |  0.028878  |   0.130759 |\n",
      "| interactive-discover-5 |      0.0144744 |  0.016457  |   0.02854  |\n",
      "| interactive-discover-6 |      0.0344277 |  0.0568378 |   0.535854 |\n",
      "| interactive-discover-7 |      0.0326442 |  0.0243192 |   0.098555 |\n",
      "| interactive-discover-8 |      0.045571  |  0.0709648 |   0.500008 |\n",
      "| interactive-short-1    |      0.0713216 |  0.0511485 |   0.437518 |\n",
      "| interactive-short-2    |      0.165514  |  0.220324  |   2.18607  |\n",
      "| interactive-short-3    |      0.0858383 |  0.0979579 |   0.814646 |\n",
      "| interactive-short-4    |      0.035204  |  0.0822218 |   0.818604 |\n",
      "| interactive-short-5    |      0.0488544 |  0.0371241 |   0.188891 |\n",
      "| interactive-short-6    |      0.0877324 |  0.0697562 |   0.56274  |\n",
      "| interactive-short-7    |      0.157336  |  0.120648  |   0.80848  |\n"
     ]
    }
   ],
   "source": [
    "print(tabulate(rows, headers=head, tablefmt=\"github\"))"
   ]
  },
  {
   "cell_type": "code",
   "execution_count": null,
   "id": "8351d8df-3a95-43d3-ab58-cf599ed74e20",
   "metadata": {},
   "outputs": [],
   "source": []
  }
 ],
 "metadata": {
  "kernelspec": {
   "display_name": "venv",
   "language": "python",
   "name": "venv"
  },
  "language_info": {
   "codemirror_mode": {
    "name": "ipython",
    "version": 3
   },
   "file_extension": ".py",
   "mimetype": "text/x-python",
   "name": "python",
   "nbconvert_exporter": "python",
   "pygments_lexer": "ipython3",
   "version": "3.12.6"
  }
 },
 "nbformat": 4,
 "nbformat_minor": 5
}
