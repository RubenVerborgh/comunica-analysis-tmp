{
 "cells": [
  {
   "cell_type": "code",
   "execution_count": 1,
   "id": "4db0ec7b-0fd5-4dcf-a065-7edf59e26e4d",
   "metadata": {},
   "outputs": [],
   "source": [
    "import json\n",
    "from texttable import Texttable\n",
    "import latextable\n",
    "from tabulate import tabulate"
   ]
  },
  {
   "cell_type": "code",
   "execution_count": 2,
   "id": "856afe84-8cd9-4ae0-8184-fa3eb593b989",
   "metadata": {},
   "outputs": [],
   "source": [
    "fullyBoundedFilePath = \"../results/shape-containment/fully_bounded/time_eval_summary_with_warm_up.json\"\n",
    "resultsFullyBounded = None"
   ]
  },
  {
   "cell_type": "code",
   "execution_count": 3,
   "id": "740d4e00-bc5e-40f6-9f84-57afb8988795",
   "metadata": {},
   "outputs": [],
   "source": [
    "with open(fullyBoundedFilePath, 'rb') as rf:\n",
    "    resultsFullyBounded = json.load(rf)"
   ]
  },
  {
   "cell_type": "code",
   "execution_count": 4,
   "id": "7f0f0ff7-a942-4e42-a934-26f0112904fc",
   "metadata": {},
   "outputs": [],
   "source": [
    "head = [\"Query Template\", \"Average (ms)\", \"std (ms)\", \"max (ms)\"]\n",
    "rows = []"
   ]
  },
  {
   "cell_type": "code",
   "execution_count": 5,
   "id": "582d92a8-6bf1-41d4-af02-f719fbe88bdd",
   "metadata": {},
   "outputs": [],
   "source": [
    "ignoreQueries = [\"interactive-short-1-nocity\", \"interactive-short-3-unidir\", \"interactive-short-4-creator\"]\n",
    "for key, value in resultsFullyBounded.items():\n",
    "    if key not in ignoreQueries:\n",
    "        row = [key, value[\"average\"],value[\"std\"],value[\"max\"] ]\n",
    "        rows.append(row)"
   ]
  },
  {
   "cell_type": "code",
   "execution_count": 6,
   "id": "4b4b631b-c897-468d-9c25-8c6c943d58cc",
   "metadata": {},
   "outputs": [
    {
     "name": "stdout",
     "output_type": "stream",
     "text": [
      "\\begin{table}\n",
      "\t\\begin{center}\n",
      "\t\t\\begin{tabular}{|l|l|l|l|}\n",
      "\t\t\t\\hline\n",
      "\t\t\tQuery Template & Average (ms) & std (ms) & max (ms) \\\\\n",
      "\t\t\t\\hline\n",
      "\t\t\tinteractive-discover-1 & 0.062 & 0.073 & 0.539 \\\\\n",
      "\t\t\t\\hline\n",
      "\t\t\tinteractive-discover-2 & 0.106 & 0.461 & 4.655 \\\\\n",
      "\t\t\t\\hline\n",
      "\t\t\tinteractive-discover-3 & 0.040 & 0.034 & 0.133 \\\\\n",
      "\t\t\t\\hline\n",
      "\t\t\tinteractive-discover-4 & 0.043 & 0.068 & 0.672 \\\\\n",
      "\t\t\t\\hline\n",
      "\t\t\tinteractive-discover-5 & 0.015 & 0.015 & 0.025 \\\\\n",
      "\t\t\t\\hline\n",
      "\t\t\tinteractive-discover-6 & 0.068 & 0.039 & 0.174 \\\\\n",
      "\t\t\t\\hline\n",
      "\t\t\tinteractive-discover-7 & 0.041 & 0.101 & 1.005 \\\\\n",
      "\t\t\t\\hline\n",
      "\t\t\tinteractive-discover-8 & 0.033 & 0.045 & 0.426 \\\\\n",
      "\t\t\t\\hline\n",
      "\t\t\tinteractive-short-1 & 0.074 & 0.064 & 0.560 \\\\\n",
      "\t\t\t\\hline\n",
      "\t\t\tinteractive-short-2 & 0.309 & 0.327 & 2.791 \\\\\n",
      "\t\t\t\\hline\n",
      "\t\t\tinteractive-short-3 & 0.072 & 0.069 & 0.650 \\\\\n",
      "\t\t\t\\hline\n",
      "\t\t\tinteractive-short-4 & 0.042 & 0.032 & 0.144 \\\\\n",
      "\t\t\t\\hline\n",
      "\t\t\tinteractive-short-5 & 0.043 & 0.057 & 0.551 \\\\\n",
      "\t\t\t\\hline\n",
      "\t\t\tinteractive-short-6 & 0.132 & 0.343 & 3.473 \\\\\n",
      "\t\t\t\\hline\n",
      "\t\t\tinteractive-short-7 & 0.176 & 0.158 & 0.971 \\\\\n",
      "\t\t\t\\hline\n",
      "\t\t\\end{tabular}\n",
      "\t\\end{center}\n",
      "\t\\caption{Query-Shape containment computation time is negligeable with the most restrictive shapes of our experiments.}\n",
      "\t\\label{tab:queryShapeContainmentEval}\n",
      "\\end{table}\n"
     ]
    }
   ],
   "source": [
    "caption= \"Query-Shape containment computation time is negligeable with the most restrictive shapes of our experiments.\"\n",
    "label=\"tab:queryShapeContainmentEval\"\n",
    "table_1 = Texttable()\n",
    "table_1.add_rows([head]+ rows)\n",
    "print(latextable.draw_latex(table_1, caption=caption, label=label))"
   ]
  },
  {
   "cell_type": "code",
   "execution_count": 7,
   "id": "f932dd3e-473e-49d6-9410-6df0be9549c7",
   "metadata": {},
   "outputs": [
    {
     "name": "stdout",
     "output_type": "stream",
     "text": [
      "| Query Template         |   Average (ms) |   std (ms) |   max (ms) |\n",
      "|------------------------|----------------|------------|------------|\n",
      "| interactive-discover-1 |      0.0618438 |  0.0726364 |   0.539265 |\n",
      "| interactive-discover-2 |      0.105928  |  0.461229  |   4.65459  |\n",
      "| interactive-discover-3 |      0.0398161 |  0.0335151 |   0.132836 |\n",
      "| interactive-discover-4 |      0.0429159 |  0.0680897 |   0.671575 |\n",
      "| interactive-discover-5 |      0.0151847 |  0.0151789 |   0.025168 |\n",
      "| interactive-discover-6 |      0.0682071 |  0.039463  |   0.17427  |\n",
      "| interactive-discover-7 |      0.0413428 |  0.101086  |   1.00512  |\n",
      "| interactive-discover-8 |      0.0332523 |  0.0448469 |   0.426482 |\n",
      "| interactive-short-1    |      0.0741067 |  0.0635529 |   0.559887 |\n",
      "| interactive-short-2    |      0.308642  |  0.326832  |   2.7905   |\n",
      "| interactive-short-3    |      0.0715054 |  0.06854   |   0.649695 |\n",
      "| interactive-short-4    |      0.0416769 |  0.0316831 |   0.143782 |\n",
      "| interactive-short-5    |      0.0434088 |  0.0572675 |   0.550559 |\n",
      "| interactive-short-6    |      0.131873  |  0.342731  |   3.47311  |\n",
      "| interactive-short-7    |      0.175954  |  0.157919  |   0.970906 |\n"
     ]
    }
   ],
   "source": [
    "print(tabulate(rows, headers=head, tablefmt=\"github\"))"
   ]
  },
  {
   "cell_type": "code",
   "execution_count": null,
   "id": "8351d8df-3a95-43d3-ab58-cf599ed74e20",
   "metadata": {},
   "outputs": [],
   "source": []
  }
 ],
 "metadata": {
  "kernelspec": {
   "display_name": "venv",
   "language": "python",
   "name": "venv"
  },
  "language_info": {
   "codemirror_mode": {
    "name": "ipython",
    "version": 3
   },
   "file_extension": ".py",
   "mimetype": "text/x-python",
   "name": "python",
   "nbconvert_exporter": "python",
   "pygments_lexer": "ipython3",
   "version": "3.12.6"
  }
 },
 "nbformat": 4,
 "nbformat_minor": 5
}
